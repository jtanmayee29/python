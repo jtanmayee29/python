{
  "nbformat": 4,
  "nbformat_minor": 0,
  "metadata": {
    "colab": {
      "provenance": []
    },
    "kernelspec": {
      "name": "python3",
      "display_name": "Python 3"
    },
    "language_info": {
      "name": "python"
    }
  },
  "cells": [
    {
      "cell_type": "code",
      "execution_count": null,
      "metadata": {
        "colab": {
          "base_uri": "https://localhost:8080/"
        },
        "id": "zZ0QQfw2WUB-",
        "outputId": "222f11d4-5b7e-4673-ed2c-f1802dd00464"
      },
      "outputs": [
        {
          "output_type": "stream",
          "name": "stdout",
          "text": [
            "-2 3 -5 6\n",
            "-3 4 -5 -7 7\n",
            "Output for list1: [3, 6]\n",
            "Output for list2: [4, 7]\n"
          ]
        }
      ],
      "source": [
        "# Function to filter positive numbers from a list\n",
        "def filter_positive_numbers(input_list):\n",
        "    return [num for num in input_list if num > 0]\n",
        "\n",
        "list1 = list(map(int, input().split()))\n",
        "list2 = list(map(int, input().split()))\n",
        "\n",
        "# Filter and print the output\n",
        "output1 = filter_positive_numbers(list1)\n",
        "output2 = filter_positive_numbers(list2)\n",
        "\n",
        "\n",
        "print(\"Output for list1:\",output1)\n",
        "print(\"Output for list2:\", output2)\n",
        "\n"
      ]
    }
  ]
}