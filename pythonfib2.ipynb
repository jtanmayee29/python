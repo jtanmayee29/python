{
  "nbformat": 4,
  "nbformat_minor": 0,
  "metadata": {
    "colab": {
      "provenance": []
    },
    "kernelspec": {
      "name": "python3",
      "display_name": "Python 3"
    },
    "language_info": {
      "name": "python"
    }
  },
  "cells": [
    {
      "cell_type": "code",
      "execution_count": 2,
      "metadata": {
        "colab": {
          "base_uri": "https://localhost:8080/"
        },
        "id": "JGSiK0loKTwZ",
        "outputId": "13c50198-7a6e-406d-bb4a-70ea5c141239"
      },
      "outputs": [
        {
          "output_type": "stream",
          "name": "stdout",
          "text": [
            "Enter the number of terms for the Fibonacci series: 11\n",
            "Fibonacci Series:\n",
            "[0, 1, 1, 2, 3, 5, 8, 13, 21, 34, 55]\n"
          ]
        }
      ],
      "source": [
        "def fibonacci_series(n):\n",
        "    a, b = 0, 1\n",
        "    series = []\n",
        "    for _ in range(n):\n",
        "        series.append(a)\n",
        "        a, b = b, a + b\n",
        "    return series\n",
        "num_terms = int(input(\"Enter the number of terms for the Fibonacci series: \"))\n",
        "if num_terms <= 0:\n",
        "    print(\"Please enter a positive integer.\")\n",
        "else:\n",
        "    print(\"Fibonacci Series:\")\n",
        "    print(fibonacci_series(num_terms))\n"
      ]
    }
  ]
}